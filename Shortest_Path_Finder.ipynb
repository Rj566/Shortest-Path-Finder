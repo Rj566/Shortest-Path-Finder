{
  "nbformat": 4,
  "nbformat_minor": 0,
  "metadata": {
    "colab": {
      "provenance": []
    },
    "kernelspec": {
      "name": "python3",
      "display_name": "Python 3"
    },
    "language_info": {
      "name": "python"
    }
  },
  "cells": [
    {
      "cell_type": "code",
      "source": [
        "!pip install xmltodict\n",
        "!pip install folium\n",
        "!pip install numpy"
      ],
      "metadata": {
        "colab": {
          "base_uri": "https://localhost:8080/"
        },
        "id": "hmtEm852K-6_",
        "outputId": "4578f875-fe2a-4911-cfc1-3e265fd1ddbc"
      },
      "execution_count": 1,
      "outputs": [
        {
          "output_type": "stream",
          "name": "stdout",
          "text": [
            "Requirement already satisfied: xmltodict in /usr/local/lib/python3.10/dist-packages (0.13.0)\n",
            "Requirement already satisfied: folium in /usr/local/lib/python3.10/dist-packages (0.17.0)\n",
            "Requirement already satisfied: branca>=0.6.0 in /usr/local/lib/python3.10/dist-packages (from folium) (0.7.2)\n",
            "Requirement already satisfied: jinja2>=2.9 in /usr/local/lib/python3.10/dist-packages (from folium) (3.1.4)\n",
            "Requirement already satisfied: numpy in /usr/local/lib/python3.10/dist-packages (from folium) (1.26.4)\n",
            "Requirement already satisfied: requests in /usr/local/lib/python3.10/dist-packages (from folium) (2.32.3)\n",
            "Requirement already satisfied: xyzservices in /usr/local/lib/python3.10/dist-packages (from folium) (2024.6.0)\n",
            "Requirement already satisfied: MarkupSafe>=2.0 in /usr/local/lib/python3.10/dist-packages (from jinja2>=2.9->folium) (2.1.5)\n",
            "Requirement already satisfied: charset-normalizer<4,>=2 in /usr/local/lib/python3.10/dist-packages (from requests->folium) (3.3.2)\n",
            "Requirement already satisfied: idna<4,>=2.5 in /usr/local/lib/python3.10/dist-packages (from requests->folium) (3.7)\n",
            "Requirement already satisfied: urllib3<3,>=1.21.1 in /usr/local/lib/python3.10/dist-packages (from requests->folium) (2.0.7)\n",
            "Requirement already satisfied: certifi>=2017.4.17 in /usr/local/lib/python3.10/dist-packages (from requests->folium) (2024.7.4)\n",
            "Requirement already satisfied: numpy in /usr/local/lib/python3.10/dist-packages (1.26.4)\n"
          ]
        }
      ]
    },
    {
      "cell_type": "code",
      "execution_count": 2,
      "metadata": {
        "id": "fMb3ZnTVJeZc"
      },
      "outputs": [],
      "source": [
        "import xmltodict as xtd\n",
        "import folium\n",
        "import numpy as np\n",
        "import time\n",
        "from IPython.display import display\n",
        "from IPython.display import clear_output"
      ]
    },
    {
      "cell_type": "markdown",
      "source": [
        "# Import Map Data"
      ],
      "metadata": {
        "id": "GATSEUKRNc15"
      }
    },
    {
      "cell_type": "code",
      "source": [
        "with open('/content/mapHSR.osm', \"rb\") as osm_fn:\n",
        "  map_osm = xtd.parse(osm_fn)['osm']"
      ],
      "metadata": {
        "id": "eqsyP55cK5GA"
      },
      "execution_count": 3,
      "outputs": []
    },
    {
      "cell_type": "markdown",
      "source": [
        "# Parse Map Data"
      ],
      "metadata": {
        "id": "VnWROFy2NV1M"
      }
    },
    {
      "cell_type": "code",
      "source": [
        "map_osm.keys()"
      ],
      "metadata": {
        "id": "UPtjVY9zLT4j",
        "colab": {
          "base_uri": "https://localhost:8080/"
        },
        "outputId": "9a3f319b-108d-4697-fbfb-ef710ad781e2"
      },
      "execution_count": 4,
      "outputs": [
        {
          "output_type": "execute_result",
          "data": {
            "text/plain": [
              "dict_keys(['@version', '@generator', '@copyright', '@attribution', '@license', 'bounds', 'node', 'way', 'relation'])"
            ]
          },
          "metadata": {},
          "execution_count": 4
        }
      ]
    },
    {
      "cell_type": "markdown",
      "source": [
        "# Bounds Parsing"
      ],
      "metadata": {
        "id": "T7D0Y3nyNS8O"
      }
    },
    {
      "cell_type": "code",
      "source": [
        "ymax = map_osm['bounds']['@maxlat']\n",
        "ymin = map_osm['bounds']['@minlat']\n",
        "xmax = map_osm['bounds']['@maxlon']\n",
        "xmin = map_osm['bounds']['@minlon']\n",
        "\n",
        "parsed_bounds = [xmin, xmax, ymin, ymax]"
      ],
      "metadata": {
        "id": "WB_6DGMjL-Nd"
      },
      "execution_count": 5,
      "outputs": []
    },
    {
      "cell_type": "markdown",
      "source": [
        "# Nodes Parsing"
      ],
      "metadata": {
        "id": "0M-xyCrPNPME"
      }
    },
    {
      "cell_type": "code",
      "source": [
        "Node=map_osm['node']\n",
        "\n",
        "Nnodes=len(Node)\n",
        "\n",
        "Nodeid = [0]*Nnodes\n",
        "xy = []\n",
        "\n",
        "for i in range(Nnodes):\n",
        "  Nodeid[i]=float(Node[i]['@id'])\n",
        "  x=float(Node[i]['@lat'])\n",
        "  y=float(Node[i]['@lon'])\n",
        "  xy.append([x,y])\n",
        "\n",
        "parsed_node={'id':Nodeid, 'xy':xy}\n"
      ],
      "metadata": {
        "id": "8Sw4T9yRMBwL"
      },
      "execution_count": 6,
      "outputs": []
    },
    {
      "cell_type": "markdown",
      "source": [
        "# Parsing Way"
      ],
      "metadata": {
        "id": "voxZQL3sNIfy"
      }
    },
    {
      "cell_type": "code",
      "source": [
        "Way=map_osm['way']\n",
        "\n",
        "Nways=len(Way)\n",
        "\n",
        "Wayid=[0]*Nways\n",
        "nodes_in_way=[0]*Nways\n",
        "tags=[0]*Nways\n",
        "for i in range(Nways):\n",
        "  tempWay = Way[i]\n",
        "\n",
        "  Wayid[i] = float(tempWay['@id'])\n",
        "\n",
        "  Nnd=len(tempWay['nd'])\n",
        "  ndTemp=[0]*Nnd\n",
        "\n",
        "  for j in range(Nnd):\n",
        "    ndTemp[j]=float(tempWay['nd'][j]['@ref'])\n",
        "\n",
        "  nodes_in_way[i] = ndTemp\n",
        "\n",
        "  if 'tag' in tempWay.keys():\n",
        "    if type(tempWay['tag']) is list:\n",
        "      tags[i]=tempWay['tag']\n",
        "    else:\n",
        "      tags[i]=[tempWay['tag']]\n",
        "  else:\n",
        "    tags[i]=[]\n",
        "\n",
        "parsed_way={'id':Wayid,'nodes':nodes_in_way, 'tags':tags}"
      ],
      "metadata": {
        "id": "AInVy7sLMFTL"
      },
      "execution_count": 7,
      "outputs": []
    },
    {
      "cell_type": "markdown",
      "source": [
        "# Parsing Relations"
      ],
      "metadata": {
        "id": "hjKE_oT7NEqu"
      }
    },
    {
      "cell_type": "code",
      "source": [
        "Relation=map_osm['relation']\n",
        "\n",
        "Nrelation=len(Relation)\n",
        "\n",
        "Relationid=[0]*Nrelation\n",
        "\n",
        "for i in range(Nrelation):\n",
        "  currentRelation = Relation[i]\n",
        "  currentId=currentRelation['@id']\n",
        "  Relationid[i]=float(currentId)\n",
        "\n",
        "parsed_relation={'id':Relationid}"
      ],
      "metadata": {
        "id": "eLVs_1JfMJIw"
      },
      "execution_count": 8,
      "outputs": []
    },
    {
      "cell_type": "markdown",
      "source": [
        "# PArsing OSM"
      ],
      "metadata": {
        "id": "n21bq5kGM-Pz"
      }
    },
    {
      "cell_type": "code",
      "source": [
        "parsed_osm={\n",
        "    'bounds':parsed_bounds,\n",
        "    'way':parsed_way,\n",
        "    'node':parsed_node,\n",
        "    'relation':parsed_relation,\n",
        "    'attributes':map_osm.keys()\n",
        "}"
      ],
      "metadata": {
        "id": "Bon3t8WTMLEc"
      },
      "execution_count": 9,
      "outputs": []
    },
    {
      "cell_type": "markdown",
      "source": [
        "# Build COnnectivity Matrix"
      ],
      "metadata": {
        "id": "nzynOgj5M57K"
      }
    },
    {
      "cell_type": "code",
      "source": [
        "bounds=parsed_osm['bounds']\n",
        "way=parsed_osm['way']\n",
        "node=parsed_osm['node']\n",
        "relation=parsed_osm['relation']"
      ],
      "metadata": {
        "id": "AvOstcI8MMrZ"
      },
      "execution_count": 10,
      "outputs": []
    },
    {
      "cell_type": "code",
      "source": [
        "ways_num = len(way['id'])\n",
        "ways_node_set=way['nodes']\n",
        "node_ids = dict()\n",
        "n = len(node['id'])\n",
        "for i in range(n):\n",
        "  node_ids[node['id'][i]] = i\n",
        "\n",
        "road_vals = ['highway', 'motorway', 'motorway_link', 'trunk', 'trunk_link',\n",
        "             'primary', 'primary_link', 'secondary', 'secondary_link',\n",
        "             'tertiary', 'road', 'residential', 'living_street',\n",
        "             'service', 'services', 'motorway_junction']"
      ],
      "metadata": {
        "id": "JW7bPgwfMOaU"
      },
      "execution_count": 11,
      "outputs": []
    },
    {
      "cell_type": "code",
      "source": [
        "def create_connectivity():\n",
        "  connectivity_matrix = np.full((Nnodes,Nnodes), float('inf'))\n",
        "  np.fill_diagonal(connectivity_matrix, 0)\n",
        "\n",
        "  for currentWay in range(ways_num):\n",
        "    skip = True\n",
        "    for i in way['tags'][currentWay]:\n",
        "      if i['@k'] in road_vals:\n",
        "        skip = False\n",
        "        break\n",
        "\n",
        "    if skip:\n",
        "      continue\n",
        "\n",
        "    nodeset=ways_node_set[currentWay]\n",
        "    nodes_num=len(nodeset)\n",
        "\n",
        "    currentWayID = way['id'][currentWay]\n",
        "\n",
        "    for firstnode_local_index in range(nodes_num):\n",
        "      firstnode_id = nodeset[firstnode_local_index]\n",
        "      firstnode_index = node_ids.get(firstnode_id, -1)\n",
        "      if firstnode_index==-1: continue\n",
        "\n",
        "      for othernode_local_index in range(firstnode_local_index+1, nodes_num):\n",
        "        othernode_id=nodeset[othernode_local_index]\n",
        "        othernode_index = node_ids.get(othernode_id, -1)\n",
        "        if othernode_index==-1: continue\n",
        "\n",
        "        if(firstnode_id != othernode_id and connectivity_matrix[firstnode_index,othernode_index]==float('inf')):\n",
        "          connectivity_matrix[firstnode_index, othernode_index] = 1\n",
        "          connectivity_matrix[othernode_index, firstnode_index] = 1\n",
        "\n",
        "  return connectivity_matrix"
      ],
      "metadata": {
        "id": "VALauqJcMQly"
      },
      "execution_count": 12,
      "outputs": []
    },
    {
      "cell_type": "markdown",
      "source": [
        "# Apply Pathfinding Algorithm"
      ],
      "metadata": {
        "id": "70aXVy-FM0oj"
      }
    },
    {
      "cell_type": "code",
      "source": [
        "def dijkstra(source, connectivity_matrix, p):\n",
        "  s = dict()\n",
        "  s[source] = True\n",
        "  p[source] = source\n",
        "\n",
        "  v = len(connectivity_matrix)\n",
        "  u = source\n",
        "  d_u = float('inf')\n",
        "  for i in range(v):\n",
        "    if i != source and connectivity_matrix[source][i] < d_u:\n",
        "      u = i\n",
        "      d_u = connectivity_matrix[source][i]\n",
        "  s[u] = True\n",
        "  p[u] = source\n",
        "\n",
        "  i = v-2\n",
        "  while i > 0:\n",
        "    u_x = source\n",
        "    d_u = float('inf')\n",
        "\n",
        "    for j in range(v):\n",
        "      if s.get(j, False) == False and connectivity_matrix[source][u] != float('inf') and connectivity_matrix[u][j] != float('inf'):\n",
        "        k = connectivity_matrix[source][u] + connectivity_matrix[u][j]\n",
        "        connectivity_matrix[source][j] = min(connectivity_matrix[source][j], k)\n",
        "        connectivity_matrix[j][source] = connectivity_matrix[source][j]\n",
        "\n",
        "        if connectivity_matrix[source][j] == k:\n",
        "          p[j] = u\n",
        "        elif connectivity_matrix[source][j] == 1:\n",
        "          p[j] = source\n",
        "\n",
        "        if connectivity_matrix[source][j] < d_u:\n",
        "          u_x = j\n",
        "          d_u = connectivity_matrix[source][j]\n",
        "\n",
        "    if u_x == source:\n",
        "      break\n",
        "\n",
        "    s[u_x] = True\n",
        "    u = u_x\n",
        "    i -= 1"
      ],
      "metadata": {
        "id": "lKyMG0odMTpS"
      },
      "execution_count": 13,
      "outputs": []
    },
    {
      "cell_type": "markdown",
      "source": [
        "# Plot Routes"
      ],
      "metadata": {
        "id": "4XHK3CLLMwZm"
      }
    },
    {
      "cell_type": "code",
      "source": [
        "def plot_routes(s, connectivity_matrix):\n",
        "  p = dict()\n",
        "  dijkstra(s, connectivity_matrix, p)\n",
        "\n",
        "  nodes_routes_values=[]\n",
        "  for i in p.keys():\n",
        "    adder=[i,0]\n",
        "    while p[i] != i:\n",
        "      adder[1]+=1\n",
        "      i = p[i]\n",
        "    nodes_routes_values.append(adder)\n",
        "\n",
        "  return nodes_routes_values,p"
      ],
      "metadata": {
        "id": "0AB7D_-MMW5A"
      },
      "execution_count": 14,
      "outputs": []
    },
    {
      "cell_type": "markdown",
      "source": [
        "# Build Map"
      ],
      "metadata": {
        "id": "hC6QTnyyMsCI"
      }
    },
    {
      "cell_type": "code",
      "source": [
        "def build_map(i,p):\n",
        "  node_cds = [(node['xy'][i][0], node['xy'][i][1])]\n",
        "  while p[i] != i:\n",
        "    node_cds.append((node['xy'][p[i]][0], node['xy'][p[i]][1]))\n",
        "    i = p[i]\n",
        "\n",
        "  map = folium.Map(location = node_cds[-1], zoom_start = 15)\n",
        "\n",
        "  folium.CircleMarker(node_cds[-1], radius=5, color=\"blue\", fill=True, fill_color=\"orange\").add_to(map)\n",
        "  folium.Marker(node_cds[0], icon = folium.Icon(color=\"blue\", icon=\"circle\", prefix='fa')).add_to(map)\n",
        "\n",
        "  folium.PolyLine(locations = node_cds, weight=5, color=\"blue\", opacity=\"0.75\", dash_array=10).add_to(map)\n",
        "\n",
        "  return map"
      ],
      "metadata": {
        "id": "h5lvzTXAMZW8"
      },
      "execution_count": 15,
      "outputs": []
    },
    {
      "cell_type": "markdown",
      "source": [
        "# Display Map"
      ],
      "metadata": {
        "id": "Q6Jk1C5QMnsX"
      }
    },
    {
      "cell_type": "code",
      "source": [
        "connectivity_matrix = create_connectivity()\n",
        "nodes_routes_values,p = plot_routes(125, connectivity_matrix)"
      ],
      "metadata": {
        "id": "2jBIf295Mayy"
      },
      "execution_count": 16,
      "outputs": []
    },
    {
      "cell_type": "code",
      "source": [
        "print(nodes_routes_values)"
      ],
      "metadata": {
        "colab": {
          "base_uri": "https://localhost:8080/"
        },
        "id": "AachJgVLMcpr",
        "outputId": "d6cc3eae-02b9-4dd8-8051-71d4ac7a8880"
      },
      "execution_count": 17,
      "outputs": [
        {
          "output_type": "stream",
          "name": "stdout",
          "text": [
            "[[125, 0], [115, 1], [75, 2], [113, 2], [114, 2], [116, 1], [118, 1], [121, 2], [122, 2], [132, 1], [8188, 2], [8189, 2], [12, 2], [26, 2], [28, 2], [34, 2], [37, 2], [39, 2], [41, 2], [42, 2], [55, 2], [69, 2], [76, 2], [102, 2], [105, 2], [110, 2], [136, 2], [140, 2], [301, 2], [305, 2], [442, 2], [117, 2], [119, 2], [120, 2], [128, 2], [129, 2], [131, 2], [127, 3], [73, 3], [74, 3], [77, 3], [92, 3], [126, 3], [296, 3], [9, 3], [10, 3], [11, 3], [13, 3], [14, 3], [15, 3], [8341, 3], [21, 3], [22, 3], [23, 3], [24, 3], [25, 3], [151, 3], [153, 3], [171, 3], [219, 3], [220, 3], [221, 3], [362, 3], [368, 3], [369, 3], [371, 3], [376, 3], [380, 3], [383, 3], [396, 3], [404, 3], [8132, 3], [8167, 3], [8180, 3], [8206, 3], [8246, 3], [8270, 3], [8277, 3], [8366, 3], [36, 3], [54, 3], [165, 3], [182, 3], [43, 3], [166, 3], [70, 3], [71, 3], [72, 3], [93, 3], [100, 3], [103, 3], [104, 3], [141, 3], [143, 3], [8348, 3], [17, 3], [107, 3], [112, 3], [152, 3], [156, 3], [158, 3], [109, 3], [111, 3], [130, 3], [124, 1], [8358, 2], [123, 1], [108, 2], [106, 3], [298, 3]]\n"
          ]
        }
      ]
    },
    {
      "cell_type": "code",
      "source": [
        "map = build_map(298,p)\n",
        "display(map)\n",
        "\n",
        "'''for i,j in nodes_routes_values:\n",
        "  if j > 2:\n",
        "    map = build_map(i)\n",
        "    display(map)\n",
        "    time.sleep(2)\n",
        "    clear_output()'''"
      ],
      "metadata": {
        "colab": {
          "base_uri": "https://localhost:8080/",
          "height": 703
        },
        "id": "8KtT3VukMeVj",
        "outputId": "1e2d7001-4acb-4f51-83ed-c8611507e3cd"
      },
      "execution_count": 18,
      "outputs": [
        {
          "output_type": "display_data",
          "data": {
            "text/plain": [
              "<folium.folium.Map at 0x7b723d7dfd30>"
            ],
            "text/html": [
              "<div style=\"width:100%;\"><div style=\"position:relative;width:100%;height:0;padding-bottom:60%;\"><span style=\"color:#565656\">Make this Notebook Trusted to load map: File -> Trust Notebook</span><iframe srcdoc=\"&lt;!DOCTYPE html&gt;\n",
              "&lt;html&gt;\n",
              "&lt;head&gt;\n",
              "    \n",
              "    &lt;meta http-equiv=&quot;content-type&quot; content=&quot;text/html; charset=UTF-8&quot; /&gt;\n",
              "    \n",
              "        &lt;script&gt;\n",
              "            L_NO_TOUCH = false;\n",
              "            L_DISABLE_3D = false;\n",
              "        &lt;/script&gt;\n",
              "    \n",
              "    &lt;style&gt;html, body {width: 100%;height: 100%;margin: 0;padding: 0;}&lt;/style&gt;\n",
              "    &lt;style&gt;#map {position:absolute;top:0;bottom:0;right:0;left:0;}&lt;/style&gt;\n",
              "    &lt;script src=&quot;https://cdn.jsdelivr.net/npm/leaflet@1.9.3/dist/leaflet.js&quot;&gt;&lt;/script&gt;\n",
              "    &lt;script src=&quot;https://code.jquery.com/jquery-3.7.1.min.js&quot;&gt;&lt;/script&gt;\n",
              "    &lt;script src=&quot;https://cdn.jsdelivr.net/npm/bootstrap@5.2.2/dist/js/bootstrap.bundle.min.js&quot;&gt;&lt;/script&gt;\n",
              "    &lt;script src=&quot;https://cdnjs.cloudflare.com/ajax/libs/Leaflet.awesome-markers/2.0.2/leaflet.awesome-markers.js&quot;&gt;&lt;/script&gt;\n",
              "    &lt;link rel=&quot;stylesheet&quot; href=&quot;https://cdn.jsdelivr.net/npm/leaflet@1.9.3/dist/leaflet.css&quot;/&gt;\n",
              "    &lt;link rel=&quot;stylesheet&quot; href=&quot;https://cdn.jsdelivr.net/npm/bootstrap@5.2.2/dist/css/bootstrap.min.css&quot;/&gt;\n",
              "    &lt;link rel=&quot;stylesheet&quot; href=&quot;https://netdna.bootstrapcdn.com/bootstrap/3.0.0/css/bootstrap-glyphicons.css&quot;/&gt;\n",
              "    &lt;link rel=&quot;stylesheet&quot; href=&quot;https://cdn.jsdelivr.net/npm/@fortawesome/fontawesome-free@6.2.0/css/all.min.css&quot;/&gt;\n",
              "    &lt;link rel=&quot;stylesheet&quot; href=&quot;https://cdnjs.cloudflare.com/ajax/libs/Leaflet.awesome-markers/2.0.2/leaflet.awesome-markers.css&quot;/&gt;\n",
              "    &lt;link rel=&quot;stylesheet&quot; href=&quot;https://cdn.jsdelivr.net/gh/python-visualization/folium/folium/templates/leaflet.awesome.rotate.min.css&quot;/&gt;\n",
              "    \n",
              "            &lt;meta name=&quot;viewport&quot; content=&quot;width=device-width,\n",
              "                initial-scale=1.0, maximum-scale=1.0, user-scalable=no&quot; /&gt;\n",
              "            &lt;style&gt;\n",
              "                #map_1ec115cbe45d3eb339fc67b998ac72c0 {\n",
              "                    position: relative;\n",
              "                    width: 100.0%;\n",
              "                    height: 100.0%;\n",
              "                    left: 0.0%;\n",
              "                    top: 0.0%;\n",
              "                }\n",
              "                .leaflet-container { font-size: 1rem; }\n",
              "            &lt;/style&gt;\n",
              "        \n",
              "&lt;/head&gt;\n",
              "&lt;body&gt;\n",
              "    \n",
              "    \n",
              "            &lt;div class=&quot;folium-map&quot; id=&quot;map_1ec115cbe45d3eb339fc67b998ac72c0&quot; &gt;&lt;/div&gt;\n",
              "        \n",
              "&lt;/body&gt;\n",
              "&lt;script&gt;\n",
              "    \n",
              "    \n",
              "            var map_1ec115cbe45d3eb339fc67b998ac72c0 = L.map(\n",
              "                &quot;map_1ec115cbe45d3eb339fc67b998ac72c0&quot;,\n",
              "                {\n",
              "                    center: [12.9106296, 77.6365534],\n",
              "                    crs: L.CRS.EPSG3857,\n",
              "                    zoom: 15,\n",
              "                    zoomControl: true,\n",
              "                    preferCanvas: false,\n",
              "                }\n",
              "            );\n",
              "\n",
              "            \n",
              "\n",
              "        \n",
              "    \n",
              "            var tile_layer_ed05c26c051fa37b9c4736b6560984d0 = L.tileLayer(\n",
              "                &quot;https://tile.openstreetmap.org/{z}/{x}/{y}.png&quot;,\n",
              "                {&quot;attribution&quot;: &quot;\\u0026copy; \\u003ca href=\\&quot;https://www.openstreetmap.org/copyright\\&quot;\\u003eOpenStreetMap\\u003c/a\\u003e contributors&quot;, &quot;detectRetina&quot;: false, &quot;maxNativeZoom&quot;: 19, &quot;maxZoom&quot;: 19, &quot;minZoom&quot;: 0, &quot;noWrap&quot;: false, &quot;opacity&quot;: 1, &quot;subdomains&quot;: &quot;abc&quot;, &quot;tms&quot;: false}\n",
              "            );\n",
              "        \n",
              "    \n",
              "            tile_layer_ed05c26c051fa37b9c4736b6560984d0.addTo(map_1ec115cbe45d3eb339fc67b998ac72c0);\n",
              "        \n",
              "    \n",
              "            var circle_marker_509e7a11e9a1f9afc38e78cced760ea3 = L.circleMarker(\n",
              "                [12.9106296, 77.6365534],\n",
              "                {&quot;bubblingMouseEvents&quot;: true, &quot;color&quot;: &quot;blue&quot;, &quot;dashArray&quot;: null, &quot;dashOffset&quot;: null, &quot;fill&quot;: true, &quot;fillColor&quot;: &quot;orange&quot;, &quot;fillOpacity&quot;: 0.2, &quot;fillRule&quot;: &quot;evenodd&quot;, &quot;lineCap&quot;: &quot;round&quot;, &quot;lineJoin&quot;: &quot;round&quot;, &quot;opacity&quot;: 1.0, &quot;radius&quot;: 5, &quot;stroke&quot;: true, &quot;weight&quot;: 3}\n",
              "            ).addTo(map_1ec115cbe45d3eb339fc67b998ac72c0);\n",
              "        \n",
              "    \n",
              "            var marker_d291b4f0dfe3dc90e3a095b50636948d = L.marker(\n",
              "                [12.908002, 77.6375151],\n",
              "                {}\n",
              "            ).addTo(map_1ec115cbe45d3eb339fc67b998ac72c0);\n",
              "        \n",
              "    \n",
              "            var icon_c0a7b749e32845025852d8d51c09dc0a = L.AwesomeMarkers.icon(\n",
              "                {&quot;extraClasses&quot;: &quot;fa-rotate-0&quot;, &quot;icon&quot;: &quot;circle&quot;, &quot;iconColor&quot;: &quot;white&quot;, &quot;markerColor&quot;: &quot;blue&quot;, &quot;prefix&quot;: &quot;fa&quot;}\n",
              "            );\n",
              "            marker_d291b4f0dfe3dc90e3a095b50636948d.setIcon(icon_c0a7b749e32845025852d8d51c09dc0a);\n",
              "        \n",
              "    \n",
              "            var poly_line_7eb788e03c4c48d871adb71ece10ef19 = L.polyline(\n",
              "                [[12.908002, 77.6375151], [12.9099832, 77.6375465], [12.9099679, 77.6365683], [12.9106296, 77.6365534]],\n",
              "                {&quot;bubblingMouseEvents&quot;: true, &quot;color&quot;: &quot;blue&quot;, &quot;dashArray&quot;: 10, &quot;dashOffset&quot;: null, &quot;fill&quot;: false, &quot;fillColor&quot;: &quot;blue&quot;, &quot;fillOpacity&quot;: 0.2, &quot;fillRule&quot;: &quot;evenodd&quot;, &quot;lineCap&quot;: &quot;round&quot;, &quot;lineJoin&quot;: &quot;round&quot;, &quot;noClip&quot;: false, &quot;opacity&quot;: &quot;0.75&quot;, &quot;smoothFactor&quot;: 1.0, &quot;stroke&quot;: true, &quot;weight&quot;: 5}\n",
              "            ).addTo(map_1ec115cbe45d3eb339fc67b998ac72c0);\n",
              "        \n",
              "&lt;/script&gt;\n",
              "&lt;/html&gt;\" style=\"position:absolute;width:100%;height:100%;left:0;top:0;border:none !important;\" allowfullscreen webkitallowfullscreen mozallowfullscreen></iframe></div></div>"
            ]
          },
          "metadata": {}
        },
        {
          "output_type": "execute_result",
          "data": {
            "text/plain": [
              "'for i,j in nodes_routes_values:\\n  if j > 2:\\n    map = build_map(i)\\n    display(map)\\n    time.sleep(2)\\n    clear_output()'"
            ],
            "application/vnd.google.colaboratory.intrinsic+json": {
              "type": "string"
            }
          },
          "metadata": {},
          "execution_count": 18
        }
      ]
    },
    {
      "cell_type": "code",
      "source": [],
      "metadata": {
        "id": "wEpksECCMgTt"
      },
      "execution_count": null,
      "outputs": []
    }
  ]
}